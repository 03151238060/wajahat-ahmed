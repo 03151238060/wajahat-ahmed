{
  "nbformat": 4,
  "nbformat_minor": 0,
  "metadata": {
    "colab": {
      "name": "Untitled1.ipynb",
      "provenance": [],
      "include_colab_link": true
    },
    "kernelspec": {
      "name": "python3",
      "display_name": "Python 3"
    }
  },
  "cells": [
    {
      "cell_type": "markdown",
      "metadata": {
        "id": "view-in-github",
        "colab_type": "text"
      },
      "source": [
        "<a href=\"https://colab.research.google.com/github/03151238060/wajahat-ahmed/blob/master/Untitled1.ipynb\" target=\"_parent\"><img src=\"https://colab.research.google.com/assets/colab-badge.svg\" alt=\"Open In Colab\"/></a>"
      ]
    },
    {
      "cell_type": "code",
      "metadata": {
        "id": "Fda86tHfdYed",
        "colab_type": "code",
        "colab": {}
      },
      "source": [
        ""
      ],
      "execution_count": 0,
      "outputs": []
    },
    {
      "cell_type": "markdown",
      "metadata": {
        "id": "GBSSbqvpeWZa",
        "colab_type": "text"
      },
      "source": [
        "4.   Write a program which will store number of items in a set after each purchasing the items will be pop from the set and compare its price at the end program will give you the total amount of items have been sold. Also find the max amount and minimum amount of items sold."
      ]
    },
    {
      "cell_type": "code",
      "metadata": {
        "id": "Kcqce9nzeeo3",
        "colab_type": "code",
        "colab": {
          "base_uri": "https://localhost:8080/",
          "height": 238
        },
        "outputId": "81627ceb-aa1c-402b-c90a-b6d0112c3248"
      },
      "source": [
        "set1={'item1','item2','item3','item4','item5'}\n",
        "list2=list(set1)\n",
        "dict1={}\n",
        "list1=[]\n",
        "for i in range(len(set1)):\n",
        "  print(list2[i],'enter its price')\n",
        "  dict1[set1.pop()]=input('enter your price')\n",
        "print(dict1)\n",
        "for i in dict1.values():\n",
        "  list1.append(i)\n",
        "print(list1)\n",
        "print('the max and min amount sold is{},{}'.format(max(list1),min(list1)))"
      ],
      "execution_count": 12,
      "outputs": [
        {
          "output_type": "stream",
          "text": [
            "item4 enter its price\n",
            "enter your price34\n",
            "item1 enter its price\n",
            "enter your price56\n",
            "item2 enter its price\n",
            "enter your price67\n",
            "item5 enter its price\n",
            "enter your price21\n",
            "item3 enter its price\n",
            "enter your price54\n",
            "{'item4': '34', 'item1': '56', 'item2': '67', 'item5': '21', 'item3': '54'}\n",
            "['34', '56', '67', '21', '54']\n",
            "the max and min amount sold is67,21\n"
          ],
          "name": "stdout"
        }
      ]
    },
    {
      "cell_type": "code",
      "metadata": {
        "id": "MxKKEHZFgFmN",
        "colab_type": "code",
        "colab": {}
      },
      "source": [
        ""
      ],
      "execution_count": 0,
      "outputs": []
    }
  ]
}