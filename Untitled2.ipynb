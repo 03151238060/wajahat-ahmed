{
  "nbformat": 4,
  "nbformat_minor": 0,
  "metadata": {
    "colab": {
      "name": "Untitled2.ipynb",
      "provenance": [],
      "include_colab_link": true
    },
    "kernelspec": {
      "name": "python3",
      "display_name": "Python 3"
    }
  },
  "cells": [
    {
      "cell_type": "markdown",
      "metadata": {
        "id": "view-in-github",
        "colab_type": "text"
      },
      "source": [
        "<a href=\"https://colab.research.google.com/github/03151238060/wajahat-ahmed/blob/master/Untitled2.ipynb\" target=\"_parent\"><img src=\"https://colab.research.google.com/assets/colab-badge.svg\" alt=\"Open In Colab\"/></a>"
      ]
    },
    {
      "cell_type": "code",
      "metadata": {
        "id": "AViqH6whLlR5",
        "colab_type": "code",
        "colab": {
          "base_uri": "https://localhost:8080/",
          "height": 119
        },
        "outputId": "8f9e382c-0b82-4bd1-b903-e93d7d8efbc8"
      },
      "source": [
        "x=input('enter any string')\n",
        "y=list(x)\n",
        "for i in range(len(y)):\n",
        "  if y[i] in ['a','e','i','o','u']:\n",
        "    print(i+1,'postion has vowel',y[i])"
      ],
      "execution_count": 4,
      "outputs": [
        {
          "output_type": "stream",
          "text": [
            "enter any stringavieowpu\n",
            "1 postion has vowel a\n",
            "3 postion has vowel i\n",
            "4 postion has vowel e\n",
            "5 postion has vowel o\n",
            "8 postion has vowel u\n"
          ],
          "name": "stdout"
        }
      ]
    },
    {
      "cell_type": "code",
      "metadata": {
        "id": "m-ZyDI-SM2bS",
        "colab_type": "code",
        "colab": {
          "base_uri": "https://localhost:8080/",
          "height": 51
        },
        "outputId": "7e5f958b-339a-45c1-a118-8631bbc865ce"
      },
      "source": [
        "x=input('enter any string')\n",
        "y=0\n",
        "for i in range(len(x)):\n",
        "  if x[i] in 'aeiou':\n",
        "    y=y+1\n",
        "print('The number of vowels in it are',y)"
      ],
      "execution_count": 7,
      "outputs": [
        {
          "output_type": "stream",
          "text": [
            "enter any stringavieowpu\n",
            "The number of vowels in it are 5\n"
          ],
          "name": "stdout"
        }
      ]
    },
    {
      "cell_type": "code",
      "metadata": {
        "id": "5XWgQPuhOo4G",
        "colab_type": "code",
        "colab": {
          "base_uri": "https://localhost:8080/",
          "height": 119
        },
        "outputId": "7d1668bf-983f-4f73-d55d-b9e10d6b25a2"
      },
      "source": [
        "x=input('enter string').casefold()\n",
        "y=list(x)\n",
        "for i in range(len(y)):\n",
        "    if y[i] in 'aeiou':\n",
        "        print(i,'position has vowel',y[i])"
      ],
      "execution_count": 8,
      "outputs": [
        {
          "output_type": "stream",
          "text": [
            "enter stringwajahtwoiucf\n",
            "1 position has vowel a\n",
            "3 position has vowel a\n",
            "7 position has vowel o\n",
            "8 position has vowel i\n",
            "9 position has vowel u\n"
          ],
          "name": "stdout"
        }
      ]
    },
    {
      "cell_type": "code",
      "metadata": {
        "id": "Ei2MdcokPLJE",
        "colab_type": "code",
        "colab": {
          "base_uri": "https://localhost:8080/",
          "height": 119
        },
        "outputId": "aa4b98cf-8cf9-43f4-dab9-fb6c909398c6"
      },
      "source": [
        "sum=0\n",
        "avg=0\n",
        "for i in range(0,5):\n",
        "  x=int(input('enter your marks'))\n",
        "  sum+=x\n",
        "avg=sum/5\n",
        "print('your average is',avg)\n"
      ],
      "execution_count": 10,
      "outputs": [
        {
          "output_type": "stream",
          "text": [
            "enter your marks89\n",
            "enter your marks79\n",
            "enter your marks90\n",
            "enter your marks98\n",
            "enter your marks67\n",
            "your average is 84.6\n"
          ],
          "name": "stdout"
        }
      ]
    },
    {
      "cell_type": "code",
      "metadata": {
        "id": "267WHNJIPzua",
        "colab_type": "code",
        "colab": {
          "base_uri": "https://localhost:8080/",
          "height": 221
        },
        "outputId": "5bd45422-b630-44b8-d10c-69ee585f2ce3"
      },
      "source": [
        "table=int(input('enter any number to calculate its table'))\n",
        "rang=int(input('How many times do you want to calculate table'))\n",
        "for i in range(1,rang+1):\n",
        "  print(table,'*',i,'=',table*i)"
      ],
      "execution_count": 11,
      "outputs": [
        {
          "output_type": "stream",
          "text": [
            "enter any number to calculate its table5\n",
            "How many times do you want to calculate table10\n",
            "5 * 1 = 5\n",
            "5 * 2 = 10\n",
            "5 * 3 = 15\n",
            "5 * 4 = 20\n",
            "5 * 5 = 25\n",
            "5 * 6 = 30\n",
            "5 * 7 = 35\n",
            "5 * 8 = 40\n",
            "5 * 9 = 45\n",
            "5 * 10 = 50\n"
          ],
          "name": "stdout"
        }
      ]
    },
    {
      "cell_type": "code",
      "metadata": {
        "id": "Y4p3p-DwQ4Ad",
        "colab_type": "code",
        "colab": {
          "base_uri": "https://localhost:8080/",
          "height": 102
        },
        "outputId": "b449e09a-c1ea-4612-9e00-85d242eb7b88"
      },
      "source": [
        "import datetime\n",
        "x=datetime.datetime.now()\n",
        "year=x.strftime(\"%y\")\n",
        "print(\"year is\",year)\n",
        "month=x.strftime(\"%m\")\n",
        "print(\"month is\",month)\n",
        "day=x.strftime(\"%d\")\n",
        "print(\"day is\",day)\n",
        "mydate=x.strftime(\"%d-%m-%y\")\n",
        "print(\"CURRENT DATE IS\",mydate)\n",
        "mytime=x.strftime(\"%H:%M:%S\")\n",
        "print(\"CURRENT TIME IS\",mytime)"
      ],
      "execution_count": 12,
      "outputs": [
        {
          "output_type": "stream",
          "text": [
            "year is 19\n",
            "month is 12\n",
            "day is 27\n",
            "CURRENT DATE IS 27-12-19\n",
            "CURRENT TIME IS 07:32:40\n"
          ],
          "name": "stdout"
        }
      ]
    },
    {
      "cell_type": "code",
      "metadata": {
        "id": "a94mQgP0RZ2f",
        "colab_type": "code",
        "colab": {
          "base_uri": "https://localhost:8080/",
          "height": 51
        },
        "outputId": "206b99c9-2dc2-402d-d722-40ac4a9dffd8"
      },
      "source": [
        "marks=float(input('enter your marks'))\n",
        "if marks>=80 and marks<100:\n",
        "  print('you have obtained grade A+')\n",
        "elif marks>=70 and marks<80:\n",
        "  print('you have obtained grade A')\n",
        "elif marks>=60 and marks<70:\n",
        "  print('you have obtained grade B')\n",
        "elif marks>=50 and marks<60:\n",
        "  print('you have obtained grade c')\n",
        "elif marks>=40 and marks<50:\n",
        "  print('you have obtained grade D')\n",
        "elif marks>=33 and marks<40:\n",
        "  print('you have obtained grade E')\n",
        "else:\n",
        "  print('your grade is too low to mention')"
      ],
      "execution_count": 13,
      "outputs": [
        {
          "output_type": "stream",
          "text": [
            "enter your marks89\n",
            "you have obtained grade A+\n"
          ],
          "name": "stdout"
        }
      ]
    },
    {
      "cell_type": "code",
      "metadata": {
        "id": "YzZFQVHBSvA1",
        "colab_type": "code",
        "colab": {
          "base_uri": "https://localhost:8080/",
          "height": 68
        },
        "outputId": "a5638b28-78d6-4c40-8fa3-59068894c342"
      },
      "source": [
        "from math import*\n",
        "r=float(input(\"enter radius of a circle\"))\n",
        "area=pi*r**2\n",
        "c1=2*pi*r\n",
        "print(\"THE AREA OF CIRCLE WITH RADIUS\",r,\"is\",round(area,2))\n",
        "print(\"and circumference is \",round(c1,2))"
      ],
      "execution_count": 15,
      "outputs": [
        {
          "output_type": "stream",
          "text": [
            "enter radius of a circle4.5\n",
            "THE AREA OF CIRCLE WITH RADIUS 4.5 is 63.62\n",
            "and circumference is  28.27\n"
          ],
          "name": "stdout"
        }
      ]
    },
    {
      "cell_type": "code",
      "metadata": {
        "id": "sanb5bKLS9Wz",
        "colab_type": "code",
        "colab": {
          "base_uri": "https://localhost:8080/",
          "height": 51
        },
        "outputId": "8142f914-65d2-465e-f597-6674dbe5083e"
      },
      "source": [
        "age=int(input(\"enter your age\"))\n",
        "ryears=65-age\n",
        "if(age<65 and age>0):\n",
        "    print(\"you have\",ryears,\"left in your retirement\")\n",
        "else:\n",
        "    print(\"invalid age\")\n"
      ],
      "execution_count": 16,
      "outputs": [
        {
          "output_type": "stream",
          "text": [
            "enter your age18\n",
            "you have 47 left in your retirement\n"
          ],
          "name": "stdout"
        }
      ]
    },
    {
      "cell_type": "code",
      "metadata": {
        "id": "22T4RFh2TVnN",
        "colab_type": "code",
        "colab": {
          "base_uri": "https://localhost:8080/",
          "height": 51
        },
        "outputId": "72718c3e-c265-4da7-a634-08ae5613de79"
      },
      "source": [
        "no=int(input(\"enter the number to check\"))\n",
        "if(no%2==0):\n",
        "    print(\"the number is even\")\n",
        "else:\n",
        "    print(\"the number is odd\")\n"
      ],
      "execution_count": 17,
      "outputs": [
        {
          "output_type": "stream",
          "text": [
            "enter the number to check45\n",
            "the number is odd\n"
          ],
          "name": "stdout"
        }
      ]
    },
    {
      "cell_type": "code",
      "metadata": {
        "id": "55tPg7epTeCC",
        "colab_type": "code",
        "colab": {}
      },
      "source": [
        ""
      ],
      "execution_count": 0,
      "outputs": []
    },
    {
      "cell_type": "code",
      "metadata": {
        "id": "W-N57tJEU-Zt",
        "colab_type": "code",
        "colab": {}
      },
      "source": [
        ""
      ],
      "execution_count": 0,
      "outputs": []
    },
    {
      "cell_type": "code",
      "metadata": {
        "id": "qJYNSx-rW8UW",
        "colab_type": "code",
        "colab": {}
      },
      "source": [
        ""
      ],
      "execution_count": 0,
      "outputs": []
    }
  ]
}