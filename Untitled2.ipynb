{
  "nbformat": 4,
  "nbformat_minor": 0,
  "metadata": {
    "colab": {
      "name": "Untitled2.ipynb",
      "provenance": [],
      "include_colab_link": true
    },
    "kernelspec": {
      "name": "python3",
      "display_name": "Python 3"
    }
  },
  "cells": [
    {
      "cell_type": "markdown",
      "metadata": {
        "id": "view-in-github",
        "colab_type": "text"
      },
      "source": [
        "<a href=\"https://colab.research.google.com/github/03151238060/wajahat-ahmed/blob/master/Untitled2.ipynb\" target=\"_parent\"><img src=\"https://colab.research.google.com/assets/colab-badge.svg\" alt=\"Open In Colab\"/></a>"
      ]
    },
    {
      "cell_type": "code",
      "metadata": {
        "id": "AViqH6whLlR5",
        "colab_type": "code",
        "outputId": "8f9e382c-0b82-4bd1-b903-e93d7d8efbc8",
        "colab": {
          "base_uri": "https://localhost:8080/",
          "height": 119
        }
      },
      "source": [
        "x=input('enter any string')\n",
        "y=list(x)\n",
        "for i in range(len(y)):\n",
        "  if y[i] in ['a','e','i','o','u']:\n",
        "    print(i+1,'postion has vowel',y[i])"
      ],
      "execution_count": 0,
      "outputs": [
        {
          "output_type": "stream",
          "text": [
            "enter any stringavieowpu\n",
            "1 postion has vowel a\n",
            "3 postion has vowel i\n",
            "4 postion has vowel e\n",
            "5 postion has vowel o\n",
            "8 postion has vowel u\n"
          ],
          "name": "stdout"
        }
      ]
    },
    {
      "cell_type": "code",
      "metadata": {
        "id": "m-ZyDI-SM2bS",
        "colab_type": "code",
        "outputId": "7e5f958b-339a-45c1-a118-8631bbc865ce",
        "colab": {
          "base_uri": "https://localhost:8080/",
          "height": 51
        }
      },
      "source": [
        "x=input('enter any string')\n",
        "y=0\n",
        "for i in range(len(x)):\n",
        "  if x[i] in 'aeiou':\n",
        "    y=y+1\n",
        "print('The number of vowels in it are',y)"
      ],
      "execution_count": 0,
      "outputs": [
        {
          "output_type": "stream",
          "text": [
            "enter any stringavieowpu\n",
            "The number of vowels in it are 5\n"
          ],
          "name": "stdout"
        }
      ]
    },
    {
      "cell_type": "code",
      "metadata": {
        "id": "5XWgQPuhOo4G",
        "colab_type": "code",
        "outputId": "7d1668bf-983f-4f73-d55d-b9e10d6b25a2",
        "colab": {
          "base_uri": "https://localhost:8080/",
          "height": 119
        }
      },
      "source": [
        "x=input('enter string').casefold()\n",
        "y=list(x)\n",
        "for i in range(len(y)):\n",
        "    if y[i] in 'aeiou':\n",
        "        print(i,'position has vowel',y[i])"
      ],
      "execution_count": 0,
      "outputs": [
        {
          "output_type": "stream",
          "text": [
            "enter stringwajahtwoiucf\n",
            "1 position has vowel a\n",
            "3 position has vowel a\n",
            "7 position has vowel o\n",
            "8 position has vowel i\n",
            "9 position has vowel u\n"
          ],
          "name": "stdout"
        }
      ]
    },
    {
      "cell_type": "code",
      "metadata": {
        "id": "Ei2MdcokPLJE",
        "colab_type": "code",
        "outputId": "aa4b98cf-8cf9-43f4-dab9-fb6c909398c6",
        "colab": {
          "base_uri": "https://localhost:8080/",
          "height": 119
        }
      },
      "source": [
        "sum=0\n",
        "avg=0\n",
        "for i in range(0,5):\n",
        "  x=int(input('enter your marks'))\n",
        "  sum+=x\n",
        "avg=sum/5\n",
        "print('your average is',avg)\n"
      ],
      "execution_count": 0,
      "outputs": [
        {
          "output_type": "stream",
          "text": [
            "enter your marks89\n",
            "enter your marks79\n",
            "enter your marks90\n",
            "enter your marks98\n",
            "enter your marks67\n",
            "your average is 84.6\n"
          ],
          "name": "stdout"
        }
      ]
    },
    {
      "cell_type": "code",
      "metadata": {
        "id": "267WHNJIPzua",
        "colab_type": "code",
        "outputId": "5bd45422-b630-44b8-d10c-69ee585f2ce3",
        "colab": {
          "base_uri": "https://localhost:8080/",
          "height": 221
        }
      },
      "source": [
        "table=int(input('enter any number to calculate its table'))\n",
        "rang=int(input('How many times do you want to calculate table'))\n",
        "for i in range(1,rang+1):\n",
        "  print(table,'*',i,'=',table*i)"
      ],
      "execution_count": 0,
      "outputs": [
        {
          "output_type": "stream",
          "text": [
            "enter any number to calculate its table5\n",
            "How many times do you want to calculate table10\n",
            "5 * 1 = 5\n",
            "5 * 2 = 10\n",
            "5 * 3 = 15\n",
            "5 * 4 = 20\n",
            "5 * 5 = 25\n",
            "5 * 6 = 30\n",
            "5 * 7 = 35\n",
            "5 * 8 = 40\n",
            "5 * 9 = 45\n",
            "5 * 10 = 50\n"
          ],
          "name": "stdout"
        }
      ]
    },
    {
      "cell_type": "code",
      "metadata": {
        "id": "Y4p3p-DwQ4Ad",
        "colab_type": "code",
        "outputId": "b449e09a-c1ea-4612-9e00-85d242eb7b88",
        "colab": {
          "base_uri": "https://localhost:8080/",
          "height": 102
        }
      },
      "source": [
        "import datetime\n",
        "x=datetime.datetime.now()\n",
        "year=x.strftime(\"%y\")\n",
        "print(\"year is\",year)\n",
        "month=x.strftime(\"%m\")\n",
        "print(\"month is\",month)\n",
        "day=x.strftime(\"%d\")\n",
        "print(\"day is\",day)\n",
        "mydate=x.strftime(\"%d-%m-%y\")\n",
        "print(\"CURRENT DATE IS\",mydate)\n",
        "mytime=x.strftime(\"%H:%M:%S\")\n",
        "print(\"CURRENT TIME IS\",mytime)"
      ],
      "execution_count": 0,
      "outputs": [
        {
          "output_type": "stream",
          "text": [
            "year is 19\n",
            "month is 12\n",
            "day is 27\n",
            "CURRENT DATE IS 27-12-19\n",
            "CURRENT TIME IS 07:32:40\n"
          ],
          "name": "stdout"
        }
      ]
    },
    {
      "cell_type": "code",
      "metadata": {
        "id": "a94mQgP0RZ2f",
        "colab_type": "code",
        "outputId": "206b99c9-2dc2-402d-d722-40ac4a9dffd8",
        "colab": {
          "base_uri": "https://localhost:8080/",
          "height": 51
        }
      },
      "source": [
        "marks=float(input('enter your marks'))\n",
        "if marks>=80 and marks<100:\n",
        "  print('you have obtained grade A+')\n",
        "elif marks>=70 and marks<80:\n",
        "  print('you have obtained grade A')\n",
        "elif marks>=60 and marks<70:\n",
        "  print('you have obtained grade B')\n",
        "elif marks>=50 and marks<60:\n",
        "  print('you have obtained grade c')\n",
        "elif marks>=40 and marks<50:\n",
        "  print('you have obtained grade D')\n",
        "elif marks>=33 and marks<40:\n",
        "  print('you have obtained grade E')\n",
        "else:\n",
        "  print('your grade is too low to mention')"
      ],
      "execution_count": 0,
      "outputs": [
        {
          "output_type": "stream",
          "text": [
            "enter your marks89\n",
            "you have obtained grade A+\n"
          ],
          "name": "stdout"
        }
      ]
    },
    {
      "cell_type": "code",
      "metadata": {
        "id": "YzZFQVHBSvA1",
        "colab_type": "code",
        "outputId": "a5638b28-78d6-4c40-8fa3-59068894c342",
        "colab": {
          "base_uri": "https://localhost:8080/",
          "height": 68
        }
      },
      "source": [
        "from math import*\n",
        "r=float(input(\"enter radius of a circle\"))\n",
        "area=pi*r**2\n",
        "c1=2*pi*r\n",
        "print(\"THE AREA OF CIRCLE WITH RADIUS\",r,\"is\",round(area,2))\n",
        "print(\"and circumference is \",round(c1,2))"
      ],
      "execution_count": 0,
      "outputs": [
        {
          "output_type": "stream",
          "text": [
            "enter radius of a circle4.5\n",
            "THE AREA OF CIRCLE WITH RADIUS 4.5 is 63.62\n",
            "and circumference is  28.27\n"
          ],
          "name": "stdout"
        }
      ]
    },
    {
      "cell_type": "code",
      "metadata": {
        "id": "sanb5bKLS9Wz",
        "colab_type": "code",
        "outputId": "8142f914-65d2-465e-f597-6674dbe5083e",
        "colab": {
          "base_uri": "https://localhost:8080/",
          "height": 51
        }
      },
      "source": [
        "age=int(input(\"enter your age\"))\n",
        "ryears=65-age\n",
        "if(age<65 and age>0):\n",
        "    print(\"you have\",ryears,\"left in your retirement\")\n",
        "else:\n",
        "    print(\"invalid age\")\n"
      ],
      "execution_count": 0,
      "outputs": [
        {
          "output_type": "stream",
          "text": [
            "enter your age18\n",
            "you have 47 left in your retirement\n"
          ],
          "name": "stdout"
        }
      ]
    },
    {
      "cell_type": "code",
      "metadata": {
        "id": "22T4RFh2TVnN",
        "colab_type": "code",
        "outputId": "72718c3e-c265-4da7-a634-08ae5613de79",
        "colab": {
          "base_uri": "https://localhost:8080/",
          "height": 51
        }
      },
      "source": [
        "no=int(input(\"enter the number to check\"))\n",
        "if(no%2==0):\n",
        "    print(\"the number is even\")\n",
        "else:\n",
        "    print(\"the number is odd\")\n"
      ],
      "execution_count": 0,
      "outputs": [
        {
          "output_type": "stream",
          "text": [
            "enter the number to check45\n",
            "the number is odd\n"
          ],
          "name": "stdout"
        }
      ]
    },
    {
      "cell_type": "code",
      "metadata": {
        "id": "55tPg7epTeCC",
        "colab_type": "code",
        "colab": {
          "base_uri": "https://localhost:8080/",
          "height": 51
        },
        "outputId": "91e5ecd4-b3d1-4622-c01e-27570e8d70be"
      },
      "source": [
        "import random\n",
        "no=int(input(\"how many no.s you need\"))\n",
        "for i in range(no):\n",
        "    num=random.randint(100,500)\n",
        "    print(num,end=\"\\t\")"
      ],
      "execution_count": 2,
      "outputs": [
        {
          "output_type": "stream",
          "text": [
            "how many no.s you need4\n",
            "140\t341\t446\t223\t"
          ],
          "name": "stdout"
        }
      ]
    },
    {
      "cell_type": "code",
      "metadata": {
        "id": "W-N57tJEU-Zt",
        "colab_type": "code",
        "colab": {
          "base_uri": "https://localhost:8080/",
          "height": 221
        },
        "outputId": "4dd18bbe-a49e-4a8a-fade-4de6a728a83b"
      },
      "source": [
        "from math import *\n",
        "def table(tno,rang):\n",
        "    for i in range (1,rang+1):\n",
        "        c=tno*i\n",
        "        print(tno,\"*\",i,\"=\",c)\n",
        "s=int(input('enter the no for table'))\n",
        "a=int(input('enter the no for table'))\n",
        "table(s,a)"
      ],
      "execution_count": 3,
      "outputs": [
        {
          "output_type": "stream",
          "text": [
            "enter the no for table3\n",
            "enter the no for table10\n",
            "3 * 1 = 3\n",
            "3 * 2 = 6\n",
            "3 * 3 = 9\n",
            "3 * 4 = 12\n",
            "3 * 5 = 15\n",
            "3 * 6 = 18\n",
            "3 * 7 = 21\n",
            "3 * 8 = 24\n",
            "3 * 9 = 27\n",
            "3 * 10 = 30\n"
          ],
          "name": "stdout"
        }
      ]
    },
    {
      "cell_type": "code",
      "metadata": {
        "id": "qJYNSx-rW8UW",
        "colab_type": "code",
        "colab": {
          "base_uri": "https://localhost:8080/",
          "height": 51
        },
        "outputId": "6277861a-560e-4706-9709-7eabccd7e020"
      },
      "source": [
        "from math import *\n",
        "def fact(j):\n",
        "    fact=1\n",
        "    for k in range(1,j+1):\n",
        "        fact=fact*k\n",
        "    return fact\n",
        "r1=int(input(\"enter the number to calculate its factorial \"))\n",
        "r2=fact(r1)\n",
        "print (\"the factorial of \",r1,\"is\",r2)"
      ],
      "execution_count": 4,
      "outputs": [
        {
          "output_type": "stream",
          "text": [
            "enter the number to calculate its factorial 6\n",
            "the factorial of  6 is 720\n"
          ],
          "name": "stdout"
        }
      ]
    },
    {
      "cell_type": "code",
      "metadata": {
        "id": "BGUkie3utRMJ",
        "colab_type": "code",
        "colab": {
          "base_uri": "https://localhost:8080/",
          "height": 51
        },
        "outputId": "360e102e-5f6f-41b5-822c-a786c20345c3"
      },
      "source": [
        "x=input(\"enter any alphabet\")\n",
        "if(x==\"a\" or x==\"e\"or x==\"i\" or x==\"o\" or x==\"u\"):\n",
        "    print(x,\"is a vowel\")\n",
        "else:\n",
        "    print(x,\"is a consonant\")"
      ],
      "execution_count": 5,
      "outputs": [
        {
          "output_type": "stream",
          "text": [
            "enter any alphabeta\n",
            "a is a vowel\n"
          ],
          "name": "stdout"
        }
      ]
    },
    {
      "cell_type": "code",
      "metadata": {
        "id": "cwvnW5WKtZrW",
        "colab_type": "code",
        "colab": {
          "base_uri": "https://localhost:8080/",
          "height": 51
        },
        "outputId": "492a2811-b5ce-4124-b5a5-de358d2d3d15"
      },
      "source": [
        "fno=int(input(\"enter any number to calculate\"))\n",
        "fact=1\n",
        "if(fno<0):\n",
        "    print(\"invalid input \")\n",
        "elif(fno==0 or fno==1):\n",
        "    print(\"the factorial of \",fno,\"is 1\")\n",
        "else:\n",
        "    for i in range(1,fno+1):\n",
        "        fact=fact*i\n",
        "    print(\"the factorial of \",fno,\"is\",fact)"
      ],
      "execution_count": 6,
      "outputs": [
        {
          "output_type": "stream",
          "text": [
            "enter any number to calculate4\n",
            "the factorial of  4 is 24\n"
          ],
          "name": "stdout"
        }
      ]
    },
    {
      "cell_type": "code",
      "metadata": {
        "id": "irjWLTjAtizw",
        "colab_type": "code",
        "colab": {
          "base_uri": "https://localhost:8080/",
          "height": 34
        },
        "outputId": "b7170498-48e6-4e94-c0c5-e084b7816a57"
      },
      "source": [
        "    x = 54 - 45 - 98 - 97 - 56 - 97\n",
        "    print(abs(x))"
      ],
      "execution_count": 7,
      "outputs": [
        {
          "output_type": "stream",
          "text": [
            "339\n"
          ],
          "name": "stdout"
        }
      ]
    },
    {
      "cell_type": "code",
      "metadata": {
        "id": "pSWoGB52tpLZ",
        "colab_type": "code",
        "colab": {
          "base_uri": "https://localhost:8080/",
          "height": 51
        },
        "outputId": "115a4a64-cedb-4405-bd46-3e5a42f13a46"
      },
      "source": [
        "from math import *\n",
        "def calarea(radius):\n",
        "    area =pi*radius**2\n",
        "    print(\"the area of circle is\",area)\n",
        "\n",
        "def calcarea(radius):\n",
        "    area = pi * radius ** 2\n",
        "    return area\n",
        "\n",
        "r = float(input(\"enter the radius\"))\n",
        "r1 = calcarea(r)\n",
        "r2 = round(r1, 2)\n",
        "print(\"the area of circle is\", r2)\n"
      ],
      "execution_count": 8,
      "outputs": [
        {
          "output_type": "stream",
          "text": [
            "enter the radius32\n",
            "the area of circle is 3216.99\n"
          ],
          "name": "stdout"
        }
      ]
    },
    {
      "cell_type": "code",
      "metadata": {
        "id": "JOFTTQFit55H",
        "colab_type": "code",
        "colab": {
          "base_uri": "https://localhost:8080/",
          "height": 51
        },
        "outputId": "4b243aeb-2d62-4307-cdab-1f77bf98730c"
      },
      "source": [
        "from math import *\n",
        "no=int(input(\"enter no.\"))\n",
        "print(\"the factorial of \",no,\"is\",factorial(no))"
      ],
      "execution_count": 9,
      "outputs": [
        {
          "output_type": "stream",
          "text": [
            "enter no.5\n",
            "the factorial of  5 is 120\n"
          ],
          "name": "stdout"
        }
      ]
    },
    {
      "cell_type": "code",
      "metadata": {
        "id": "edBM6ZzquTpP",
        "colab_type": "code",
        "colab": {
          "base_uri": "https://localhost:8080/",
          "height": 170
        },
        "outputId": "a4d752f0-9bba-4342-a1c7-53cc43d46de5"
      },
      "source": [
        "for i in range(1,10):\n",
        "    print(i,\"!\\t=\\t\",factorial(i))"
      ],
      "execution_count": 10,
      "outputs": [
        {
          "output_type": "stream",
          "text": [
            "1 !\t=\t 1\n",
            "2 !\t=\t 2\n",
            "3 !\t=\t 6\n",
            "4 !\t=\t 24\n",
            "5 !\t=\t 120\n",
            "6 !\t=\t 720\n",
            "7 !\t=\t 5040\n",
            "8 !\t=\t 40320\n",
            "9 !\t=\t 362880\n"
          ],
          "name": "stdout"
        }
      ]
    },
    {
      "cell_type": "code",
      "metadata": {
        "id": "aXKKFaVZuaoU",
        "colab_type": "code",
        "colab": {
          "base_uri": "https://localhost:8080/",
          "height": 187
        },
        "outputId": "e6e2db41-be5e-4460-fe12-44d62df7c1dc"
      },
      "source": [
        "l1=[]\n",
        "for i in range(1,9):\n",
        "    l=l1.append(int(input(\"enter the value\")))\n",
        "def fun1(l):\n",
        "    as_order=[]\n",
        "    while l1:\n",
        "        less=l1[0]\n",
        "        for i in l1:\n",
        "            if(i<less):\n",
        "                less=i\n",
        "        as_order.append(less)\n",
        "        l1.remove(less)\n",
        "    return as_order\n",
        "print(\"The original list was\",l1)\n",
        "print(\"The sorted list is\",fun1(l))"
      ],
      "execution_count": 15,
      "outputs": [
        {
          "output_type": "stream",
          "text": [
            "enter the value2\n",
            "enter the value3\n",
            "enter the value5\n",
            "enter the value1\n",
            "enter the value7\n",
            "enter the value9\n",
            "enter the value8\n",
            "enter the value3\n",
            "The original list was [2, 3, 5, 1, 7, 9, 8, 3]\n",
            "The sorted list is [1, 2, 3, 3, 5, 7, 8, 9]\n"
          ],
          "name": "stdout"
        }
      ]
    },
    {
      "cell_type": "code",
      "metadata": {
        "id": "IJdRyik9ukGe",
        "colab_type": "code",
        "colab": {
          "base_uri": "https://localhost:8080/",
          "height": 85
        },
        "outputId": "67ce1475-4248-4f26-81f0-f13164f3d9f4"
      },
      "source": [
        "from math import *\n",
        "def area (r,h):\n",
        "    area=(2*pi*r*h)+(2*pi*r**2)\n",
        "    return area\n",
        "def volume(r,h):\n",
        "    volume=pi*(r**2)*h\n",
        "    return volume\n",
        "r=float(input(\"enter radius of cylinder in cm\"))\n",
        "h=float(input(\"enter height of cylinder in cm\"))\n",
        "r1=area(r,h)\n",
        "v1=volume(r,h)\n",
        "print(\"the area of cylinder is\",round(r1,2),\"cm**3\")\n",
        "print(\"the volume of cylinder is\",round(v1,2),\"cm**3\")\n",
        "\n",
        "\n",
        "\n",
        "\n"
      ],
      "execution_count": 16,
      "outputs": [
        {
          "output_type": "stream",
          "text": [
            "enter radius of cylinder in cm3\n",
            "enter height of cylinder in cm6\n",
            "the area of cylinder is 169.65 cm**3\n",
            "the volume of cylinder is 169.65 cm**3\n"
          ],
          "name": "stdout"
        }
      ]
    },
    {
      "cell_type": "code",
      "metadata": {
        "id": "Jvffbg4FwhrU",
        "colab_type": "code",
        "colab": {
          "base_uri": "https://localhost:8080/",
          "height": 51
        },
        "outputId": "ecff6ad3-f15a-48af-d7d7-6ef0ac566825"
      },
      "source": [
        "x = input(\"enter anything\").casefold()\n",
        "def func1():\n",
        "    y=reversed(x)\n",
        "    return y\n",
        "if list(x)==list(func1()):\n",
        "    print(\"yes your input is a palindrome\")\n",
        "else:\n",
        "    print(\"sorry it is not a palindrome\")"
      ],
      "execution_count": 17,
      "outputs": [
        {
          "output_type": "stream",
          "text": [
            "enter anythingmaham\n",
            "yes your input is a palindrome\n"
          ],
          "name": "stdout"
        }
      ]
    },
    {
      "cell_type": "code",
      "metadata": {
        "id": "d1EjHoFHym73",
        "colab_type": "code",
        "colab": {
          "base_uri": "https://localhost:8080/",
          "height": 51
        },
        "outputId": "56189200-3353-4a07-f09b-bafb1afdcb5c"
      },
      "source": [
        "l1=[2,5,62,8,7]\n",
        "l2=[]\n",
        "x=len(l1)\n",
        "def func1():\n",
        "    for i in range(0,x):\n",
        "        a=min(l1)\n",
        "        l2.append(a)\n",
        "        l1.remove(a)\n",
        "    print(\"the original list becomes\",l1)\n",
        "    print(\"the list after sorting is\",l2)\n",
        "func1()"
      ],
      "execution_count": 18,
      "outputs": [
        {
          "output_type": "stream",
          "text": [
            "the original list becomes []\n",
            "the list after sorting is [2, 5, 7, 8, 62]\n"
          ],
          "name": "stdout"
        }
      ]
    },
    {
      "cell_type": "code",
      "metadata": {
        "id": "foKoWItgy8Wo",
        "colab_type": "code",
        "colab": {}
      },
      "source": [
        ""
      ],
      "execution_count": 0,
      "outputs": []
    }
  ]
}