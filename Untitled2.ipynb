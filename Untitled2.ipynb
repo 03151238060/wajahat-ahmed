{
  "nbformat": 4,
  "nbformat_minor": 0,
  "metadata": {
    "colab": {
      "name": "Untitled2.ipynb",
      "provenance": [],
      "include_colab_link": true
    },
    "kernelspec": {
      "name": "python3",
      "display_name": "Python 3"
    }
  },
  "cells": [
    {
      "cell_type": "markdown",
      "metadata": {
        "id": "view-in-github",
        "colab_type": "text"
      },
      "source": [
        "<a href=\"https://colab.research.google.com/github/03151238060/wajahat-ahmed/blob/master/Untitled2.ipynb\" target=\"_parent\"><img src=\"https://colab.research.google.com/assets/colab-badge.svg\" alt=\"Open In Colab\"/></a>"
      ]
    },
    {
      "cell_type": "code",
      "metadata": {
        "id": "AViqH6whLlR5",
        "colab_type": "code",
        "colab": {
          "base_uri": "https://localhost:8080/",
          "height": 119
        },
        "outputId": "8f9e382c-0b82-4bd1-b903-e93d7d8efbc8"
      },
      "source": [
        "x=input('enter any string')\n",
        "y=list(x)\n",
        "for i in range(len(y)):\n",
        "  if y[i] in ['a','e','i','o','u']:\n",
        "    print(i+1,'postion has vowel',y[i])"
      ],
      "execution_count": 4,
      "outputs": [
        {
          "output_type": "stream",
          "text": [
            "enter any stringavieowpu\n",
            "1 postion has vowel a\n",
            "3 postion has vowel i\n",
            "4 postion has vowel e\n",
            "5 postion has vowel o\n",
            "8 postion has vowel u\n"
          ],
          "name": "stdout"
        }
      ]
    },
    {
      "cell_type": "code",
      "metadata": {
        "id": "m-ZyDI-SM2bS",
        "colab_type": "code",
        "colab": {
          "base_uri": "https://localhost:8080/",
          "height": 51
        },
        "outputId": "7e5f958b-339a-45c1-a118-8631bbc865ce"
      },
      "source": [
        "x=input('enter any string')\n",
        "y=0\n",
        "for i in range(len(x)):\n",
        "  if x[i] in 'aeiou':\n",
        "    y=y+1\n",
        "print('The number of vowels in it are',y)"
      ],
      "execution_count": 7,
      "outputs": [
        {
          "output_type": "stream",
          "text": [
            "enter any stringavieowpu\n",
            "The number of vowels in it are 5\n"
          ],
          "name": "stdout"
        }
      ]
    },
    {
      "cell_type": "code",
      "metadata": {
        "id": "5XWgQPuhOo4G",
        "colab_type": "code",
        "colab": {}
      },
      "source": [
        ""
      ],
      "execution_count": 0,
      "outputs": []
    }
  ]
}